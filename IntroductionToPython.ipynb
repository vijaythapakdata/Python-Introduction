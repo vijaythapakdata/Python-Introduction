{
  "nbformat": 4,
  "nbformat_minor": 0,
  "metadata": {
    "colab": {
      "provenance": [],
      "include_colab_link": true
    },
    "kernelspec": {
      "name": "python3",
      "display_name": "Python 3"
    },
    "language_info": {
      "name": "python"
    }
  },
  "cells": [
    {
      "cell_type": "markdown",
      "metadata": {
        "id": "view-in-github",
        "colab_type": "text"
      },
      "source": [
        "<a href=\"https://colab.research.google.com/github/vijaythapakdata/Python-Introduction/blob/Master/IntroductionToPython.ipynb\" target=\"_parent\"><img src=\"https://colab.research.google.com/assets/colab-badge.svg\" alt=\"Open In Colab\"/></a>"
      ]
    },
    {
      "cell_type": "markdown",
      "source": [
        "Recording Section\n",
        "\n",
        "1. First Day Recording [Recording](https://y5sx6-my.sharepoint.com/:v:/g/personal/vijay123_y5sx6_onmicrosoft_com/EUg-CMA2Nj5BhbqQLRoy0oYBw4jtbn-AncK2VUvhiGsoPA?nav=eyJyZWZlcnJhbEluZm8iOnsicmVmZXJyYWxBcHAiOiJTdHJlYW1XZWJBcHAiLCJyZWZlcnJhbFZpZXciOiJTaGFyZURpYWxvZy1MaW5rIiwicmVmZXJyYWxBcHBQbGF0Zm9ybSI6IldlYiIsInJlZmVycmFsTW9kZSI6InZpZXcifX0%3D&e=tawD8u)"
      ],
      "metadata": {
        "id": "Z9Bj2utqQKbe"
      }
    },
    {
      "cell_type": "code",
      "execution_count": null,
      "metadata": {
        "colab": {
          "base_uri": "https://localhost:8080/"
        },
        "id": "svt_8LOUDi3j",
        "outputId": "30daa1ca-090a-471a-e1da-c15baff421a7"
      },
      "outputs": [
        {
          "output_type": "stream",
          "name": "stdout",
          "text": [
            "Hello, Stephen\n",
            "25\n"
          ]
        }
      ],
      "source": [
        "print(\"Hello, Stephen\");\n",
        "#Print 25\n",
        "#I am learning Python\n",
        "#It's high level Programming Langague\n",
        "print(25)"
      ]
    },
    {
      "cell_type": "markdown",
      "source": [
        "Fundamentals of Python.\n",
        "\n",
        "Python Variables and Literals\n",
        "\n",
        "In Programming, a variable is nothing but a container (storage area) to hold data. Example\n",
        "number1=10\n",
        "\n",
        "here number1 is a variable that is holding the value 10."
      ],
      "metadata": {
        "id": "puLADi0XHX4q"
      }
    },
    {
      "cell_type": "code",
      "source": [
        "#assigning the values to variable\n",
        "num1=20 # num1 is holding value of 20\n",
        "first_name=\"Vijay\" # first_name is a variable which is holding string value\n",
        "\n",
        "print(num1, first_name)\n",
        "\n",
        "num1=25\n",
        "first_name=\"Stephen\"\n",
        "print(num1, first_name)\n",
        "\n",
        "print(type(num1))\n",
        "print(type(first_name))"
      ],
      "metadata": {
        "colab": {
          "base_uri": "https://localhost:8080/"
        },
        "id": "T7R39uC0IHtC",
        "outputId": "912868d0-84d9-4132-e382-5840fd2c8b2a"
      },
      "execution_count": null,
      "outputs": [
        {
          "output_type": "stream",
          "name": "stdout",
          "text": [
            "20 Vijay\n",
            "25 Stephen\n",
            "<class 'int'>\n",
            "<class 'str'>\n"
          ]
        }
      ]
    },
    {
      "cell_type": "code",
      "source": [
        "num1=10\n",
        "num2=\"10\"\n",
        "print(num1+int(num2)) # typecasting\n",
        "\n",
        "print (num1, num2)"
      ],
      "metadata": {
        "colab": {
          "base_uri": "https://localhost:8080/"
        },
        "id": "tcfxr1DLJF1g",
        "outputId": "a5392701-3b35-4d0e-dbcc-06dab950599a"
      },
      "execution_count": null,
      "outputs": [
        {
          "output_type": "stream",
          "name": "stdout",
          "text": [
            "20\n",
            "10 10\n"
          ]
        }
      ]
    },
    {
      "cell_type": "markdown",
      "source": [
        "Literals:\n",
        "literals are representations of fixed values in program. they can be numbers, characters or string. For example 'Hello, Stephen', 12. 23.0, \"c\" etc\n",
        "\n",
        "\n",
        "literals are often used to assign values to variable or constants for example\n",
        "site_name=\"programmerspundits.com\"\n",
        "\n",
        "\n",
        "in the above example site_name is a variable whereas \"programmerspundits.com\" is a literal.\n",
        "\n",
        "There are different types of literals in Python."
      ],
      "metadata": {
        "id": "Jnq09-yhJr0E"
      }
    },
    {
      "cell_type": "markdown",
      "source": [
        "Python Numeric literals.\n",
        "1. Numeric literals are immutable(unchangeable). Numeric literals can belong 3 different numerical type: Integer, float and complex\n",
        "\n",
        "1. Integer literals\n",
        "integer literals are numbers without decimals parts. It also consist  of negative numbers.\n",
        "\n",
        "For example: 5, -5, 0, 12, -11 so on so forth\n",
        "\n",
        "2. Floating-Point Literals\n",
        "floating points literals are numbers that contain decimalparts.\n",
        "Just like integer, floating point numbers can also be both positive and negative.\n",
        "\n",
        "example: 5.02, -6.75 etc\n",
        "\n",
        "3. Complex Literals\n",
        "Complex literals are numbers that represent complex numbers.\n",
        "here numerals are in the form of a+bj, where a is real number and b is imaginary number. Example\n",
        "6+9j,2+3j\n",
        "\n",
        "2. String Literals:\n",
        "name=\"vijay\"\n",
        "\n",
        "3. Boolean literals\n",
        "correct=true\n",
        "4. Character literals\n",
        "some_characert=\"V\"\n",
        "5. Collection Literals\n",
        "list\n",
        "fruits=[\"apple\",\"Mango\"]\n",
        "print(fruits)\n",
        "\n",
        "#tuple literals\n",
        "numbers=(1,2,3)\n",
        "print(numbers)\n",
        "\n",
        "#dictionaries\n",
        "alphabets={'a':'apple','m':'mango'}\n",
        "print(alphabets)\n",
        "\n",
        "#set liters\n",
        "vowwels={1,2,2,1,2,4}\n",
        "print(voweles)"
      ],
      "metadata": {
        "id": "N6zWNSYaKpsC"
      }
    },
    {
      "cell_type": "code",
      "source": [
        "#conversions in python(type conversions)\n",
        "\n",
        "#In programming, type conversion is the process of converting data of one type to another.\n",
        "# for example : int data to string\n",
        "#there are two types of conversions in python\n",
        "# 1. Implicit conversion -automatic type conversion\n",
        "#2. Explicti conversion- manually type"
      ],
      "metadata": {
        "id": "eE1uKluVNO16"
      },
      "execution_count": null,
      "outputs": []
    },
    {
      "cell_type": "markdown",
      "source": [
        "Python Implicit Type Conversions"
      ],
      "metadata": {
        "id": "VONisTz-N6cD"
      }
    },
    {
      "cell_type": "code",
      "source": [
        "integer_number=123\n",
        "float_number=1.23\n",
        "new_number=integer_number + float_number\n",
        "#display new value and resulting data type\n",
        "print(\"Value\",new_number)\n",
        "print(\"Data type\",type(new_number))"
      ],
      "metadata": {
        "colab": {
          "base_uri": "https://localhost:8080/"
        },
        "id": "CP1Ucyq_N4wG",
        "outputId": "39cd6d5c-198c-4017-e44f-94af727f8b80"
      },
      "execution_count": null,
      "outputs": [
        {
          "output_type": "stream",
          "name": "stdout",
          "text": [
            "Value 124.23\n",
            "Data type <class 'float'>\n"
          ]
        }
      ]
    },
    {
      "cell_type": "markdown",
      "source": [
        "In python always converts smaller data type to large data type to avoid the loss of data."
      ],
      "metadata": {
        "id": "pGulZlPvN5Qt"
      }
    },
    {
      "cell_type": "markdown",
      "source": [],
      "metadata": {
        "id": "__khHjkpKg2c"
      }
    }
  ]
}